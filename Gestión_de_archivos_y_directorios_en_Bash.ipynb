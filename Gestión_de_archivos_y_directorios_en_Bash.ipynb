{
  "nbformat": 4,
  "nbformat_minor": 0,
  "metadata": {
    "colab": {
      "name": "Gestión de archivos y directorios en Bash.ipynb",
      "provenance": [],
      "include_colab_link": true
    },
    "kernelspec": {
      "name": "python3",
      "display_name": "Python 3"
    }
  },
  "cells": [
    {
      "cell_type": "markdown",
      "metadata": {
        "id": "view-in-github",
        "colab_type": "text"
      },
      "source": [
        "<a href=\"https://colab.research.google.com/github/AngieMelissa21/Prueba/blob/master/Gesti%C3%B3n_de_archivos_y_directorios_en_Bash.ipynb\" target=\"_parent\"><img src=\"https://colab.research.google.com/assets/colab-badge.svg\" alt=\"Open In Colab\"/></a>"
      ]
    },
    {
      "cell_type": "markdown",
      "metadata": {
        "id": "qLSq7eA6AVdP",
        "colab_type": "text"
      },
      "source": [
        "Sesión 1.\n",
        "Tutorial de gestión de archivos y comandos.\n",
        "\n",
        "Las carpetas y directorios son efimeros, están en la nube. cada vez que me salgo se eliminan."
      ]
    },
    {
      "cell_type": "markdown",
      "metadata": {
        "id": "BHWVziEWChTT",
        "colab_type": "text"
      },
      "source": [
        "Determinación del directorio actual con `pwd`: Me muestra en dónde estoy parado\n"
      ]
    },
    {
      "cell_type": "code",
      "metadata": {
        "id": "KZdLBdnbAMu9",
        "colab_type": "code",
        "colab": {
          "base_uri": "https://localhost:8080/",
          "height": 34
        },
        "outputId": "66a3b54d-4c05-47c0-9ca2-5d0ad8e7dcd2"
      },
      "source": [
        "\n",
        "!pwd"
      ],
      "execution_count": 1,
      "outputs": [
        {
          "output_type": "stream",
          "text": [
            "/content\n"
          ],
          "name": "stdout"
        }
      ]
    },
    {
      "cell_type": "markdown",
      "metadata": {
        "id": "cyzXPTO1CWQy",
        "colab_type": "text"
      },
      "source": [
        "Listado del contenido de un directorio con `ls`: imprime el nombre de los archivos Y directorios existentes dentro del directorio de trabajo"
      ]
    },
    {
      "cell_type": "code",
      "metadata": {
        "id": "yMm1owH4CAh7",
        "colab_type": "code",
        "colab": {
          "base_uri": "https://localhost:8080/",
          "height": 34
        },
        "outputId": "08b18381-0c61-4c30-93f0-be8511185eec"
      },
      "source": [
        "# En el directorio se encuentra \"Sample_data\"\n",
        "!ls"
      ],
      "execution_count": 3,
      "outputs": [
        {
          "output_type": "stream",
          "text": [
            "sample_data\n"
          ],
          "name": "stdout"
        }
      ]
    },
    {
      "cell_type": "code",
      "metadata": {
        "id": "5oS1ysJqC1Uh",
        "colab_type": "code",
        "colab": {
          "base_uri": "https://localhost:8080/",
          "height": 51
        },
        "outputId": "d03c5392-6cc4-4897-d02e-dc2f0e3bf0cd"
      },
      "source": [
        "# Para imprimir información detallada del contenido directorio: ls -l\n",
        "!ls -l"
      ],
      "execution_count": 4,
      "outputs": [
        {
          "output_type": "stream",
          "text": [
            "total 4\n",
            "drwxr-xr-x 1 root root 4096 Aug 27 16:17 sample_data\n"
          ],
          "name": "stdout"
        }
      ]
    },
    {
      "cell_type": "markdown",
      "metadata": {
        "id": "MY8oOOMODTkt",
        "colab_type": "text"
      },
      "source": [
        "En la descripción drwxr-xr-x : si inicia con **d** es un directorio y si inicia con **-** es un archivo"
      ]
    },
    {
      "cell_type": "markdown",
      "metadata": {
        "id": "56gSXmcCDkfw",
        "colab_type": "text"
      },
      "source": [
        "Para crear un directorio se usa `mkdir`"
      ]
    },
    {
      "cell_type": "code",
      "metadata": {
        "id": "EMqIXkmWDF7e",
        "colab_type": "code",
        "colab": {}
      },
      "source": [
        "# data_class es el nombre del archivo\n",
        "!mkdir data_class"
      ],
      "execution_count": 0,
      "outputs": []
    },
    {
      "cell_type": "code",
      "metadata": {
        "id": "qLzgRNWtDw7Q",
        "colab_type": "code",
        "colab": {
          "base_uri": "https://localhost:8080/",
          "height": 68
        },
        "outputId": "8dd179af-950b-4cb6-e7ae-447e10ec6b65"
      },
      "source": [
        "# Ahora vemos el contenido de nuevo\n",
        "!ls -l"
      ],
      "execution_count": 6,
      "outputs": [
        {
          "output_type": "stream",
          "text": [
            "total 8\n",
            "drwxr-xr-x 2 root root 4096 Sep 20 23:43 data_class\n",
            "drwxr-xr-x 1 root root 4096 Aug 27 16:17 sample_data\n"
          ],
          "name": "stdout"
        }
      ]
    },
    {
      "cell_type": "markdown",
      "metadata": {
        "id": "0C4jzpOUEIFl",
        "colab_type": "text"
      },
      "source": [
        "Cambio del directorio actual de trabajo con `cd`"
      ]
    },
    {
      "cell_type": "code",
      "metadata": {
        "id": "dqDKuXYzD76y",
        "colab_type": "code",
        "colab": {}
      },
      "source": [
        "# Verificar por qué no funciona\n",
        "!cd data_class"
      ],
      "execution_count": 0,
      "outputs": []
    },
    {
      "cell_type": "code",
      "metadata": {
        "id": "oqzOFYChEg-T",
        "colab_type": "code",
        "colab": {
          "base_uri": "https://localhost:8080/",
          "height": 34
        },
        "outputId": "996f3a2f-1fd8-4943-c63e-548d48f914f9"
      },
      "source": [
        "!pwd"
      ],
      "execution_count": 8,
      "outputs": [
        {
          "output_type": "stream",
          "text": [
            "/content\n"
          ],
          "name": "stdout"
        }
      ]
    },
    {
      "cell_type": "markdown",
      "metadata": {
        "id": "7d5BM5EoE7QB",
        "colab_type": "text"
      },
      "source": [
        "Eliminación de directorios con `rmdir`"
      ]
    },
    {
      "cell_type": "code",
      "metadata": {
        "id": "fXp2mwaOEjE0",
        "colab_type": "code",
        "colab": {}
      },
      "source": [
        "!rmdir data_class"
      ],
      "execution_count": 0,
      "outputs": []
    },
    {
      "cell_type": "code",
      "metadata": {
        "id": "0lmmDYmxGB0-",
        "colab_type": "code",
        "colab": {
          "base_uri": "https://localhost:8080/",
          "height": 34
        },
        "outputId": "1c12070b-1f6b-468b-c544-327f847643d9"
      },
      "source": [
        "!ls"
      ],
      "execution_count": 10,
      "outputs": [
        {
          "output_type": "stream",
          "text": [
            "sample_data\n"
          ],
          "name": "stdout"
        }
      ]
    },
    {
      "cell_type": "markdown",
      "metadata": {
        "id": "qVao0BJbGG8Z",
        "colab_type": "text"
      },
      "source": [
        "Creación de archivos vacios con `touch`: Permite:\n",
        "* Modificar fechas de creación y acceso de archivos\n",
        "* Crear archivos"
      ]
    },
    {
      "cell_type": "code",
      "metadata": {
        "id": "5fS7xa_1GD3o",
        "colab_type": "code",
        "colab": {}
      },
      "source": [
        "# Crear el archivo data.1\n",
        "!touch data.1"
      ],
      "execution_count": 0,
      "outputs": []
    },
    {
      "cell_type": "markdown",
      "metadata": {
        "id": "b8qjXzhOGwqL",
        "colab_type": "text"
      },
      "source": [
        "Copiar archivos con `cp`"
      ]
    },
    {
      "cell_type": "code",
      "metadata": {
        "id": "1YHBxH9VGnj5",
        "colab_type": "code",
        "colab": {}
      },
      "source": [
        "!cp data.1 data.2"
      ],
      "execution_count": 0,
      "outputs": []
    },
    {
      "cell_type": "code",
      "metadata": {
        "id": "LH2gow0qG2gi",
        "colab_type": "code",
        "colab": {
          "base_uri": "https://localhost:8080/",
          "height": 102
        },
        "outputId": "42fbe5b0-a0db-4261-860d-1c200ff9583e"
      },
      "source": [
        "ls -l"
      ],
      "execution_count": 16,
      "outputs": [
        {
          "output_type": "stream",
          "text": [
            "total 4\n",
            "-rw-r--r-- 1 root root    0 Sep 20 23:55 data\n",
            "-rw-r--r-- 1 root root    0 Sep 20 23:56 data.1\n",
            "-rw-r--r-- 1 root root    0 Sep 20 23:56 data.2\n",
            "drwxr-xr-x 1 root root 4096 Aug 27 16:17 \u001b[0m\u001b[01;34msample_data\u001b[0m/\n"
          ],
          "name": "stdout"
        }
      ]
    },
    {
      "cell_type": "markdown",
      "metadata": {
        "id": "IhAkVw-aHNFa",
        "colab_type": "text"
      },
      "source": [
        "Renombrar y mover archivos con `mv`\n",
        "\n",
        "Puede cambiar la ubicación y nombre del archivo.\n",
        "\n",
        "Sintaxis: mv *origen destino*"
      ]
    },
    {
      "cell_type": "code",
      "metadata": {
        "id": "LDqyKOweG5kT",
        "colab_type": "code",
        "colab": {}
      },
      "source": [
        "!mv data data.3"
      ],
      "execution_count": 0,
      "outputs": []
    },
    {
      "cell_type": "code",
      "metadata": {
        "id": "hip0HQZ7HtmL",
        "colab_type": "code",
        "colab": {
          "base_uri": "https://localhost:8080/",
          "height": 102
        },
        "outputId": "86854a76-1d1e-4951-f407-61a617fbe451"
      },
      "source": [
        "!ls -l"
      ],
      "execution_count": 18,
      "outputs": [
        {
          "output_type": "stream",
          "text": [
            "total 4\n",
            "-rw-r--r-- 1 root root    0 Sep 20 23:56 data.1\n",
            "-rw-r--r-- 1 root root    0 Sep 20 23:56 data.2\n",
            "-rw-r--r-- 1 root root    0 Sep 20 23:55 data.3\n",
            "drwxr-xr-x 1 root root 4096 Aug 27 16:17 sample_data\n"
          ],
          "name": "stdout"
        }
      ]
    },
    {
      "cell_type": "markdown",
      "metadata": {
        "id": "S_WMOjdPH2FA",
        "colab_type": "text"
      },
      "source": [
        "Borrar archivos con `rm`"
      ]
    },
    {
      "cell_type": "code",
      "metadata": {
        "id": "t3T5OB3sHvhP",
        "colab_type": "code",
        "colab": {}
      },
      "source": [
        "!rm data.3"
      ],
      "execution_count": 0,
      "outputs": []
    },
    {
      "cell_type": "code",
      "metadata": {
        "id": "6UTX80yjH6dG",
        "colab_type": "code",
        "colab": {
          "base_uri": "https://localhost:8080/",
          "height": 85
        },
        "outputId": "278a414c-28e0-463e-8832-9e477a9609fa"
      },
      "source": [
        "!ls -l"
      ],
      "execution_count": 20,
      "outputs": [
        {
          "output_type": "stream",
          "text": [
            "total 4\n",
            "-rw-r--r-- 1 root root    0 Sep 20 23:56 data.1\n",
            "-rw-r--r-- 1 root root    0 Sep 20 23:56 data.2\n",
            "drwxr-xr-x 1 root root 4096 Aug 27 16:17 sample_data\n"
          ],
          "name": "stdout"
        }
      ]
    },
    {
      "cell_type": "markdown",
      "metadata": {
        "id": "k2iN0ucoIO-p",
        "colab_type": "text"
      },
      "source": [
        "Código consecutivo. Ej, crear directorio pepita y dentro de pepita crear el archivo maggi"
      ]
    },
    {
      "cell_type": "code",
      "metadata": {
        "id": "KS544jZyH70Q",
        "colab_type": "code",
        "colab": {}
      },
      "source": [
        "# El punto hace referencia al directorio en el cual me encuentro\n",
        "!mkdir pepita && touch ./pepita/maggi.txt"
      ],
      "execution_count": 0,
      "outputs": []
    },
    {
      "cell_type": "code",
      "metadata": {
        "id": "ZmQTxi-7IhgZ",
        "colab_type": "code",
        "colab": {
          "base_uri": "https://localhost:8080/",
          "height": 102
        },
        "outputId": "6ffb38d3-42c3-410b-b4be-4337c91c579d"
      },
      "source": [
        "!ls -l"
      ],
      "execution_count": 22,
      "outputs": [
        {
          "output_type": "stream",
          "text": [
            "total 8\n",
            "-rw-r--r-- 1 root root    0 Sep 20 23:56 data.1\n",
            "-rw-r--r-- 1 root root    0 Sep 20 23:56 data.2\n",
            "drwxr-xr-x 2 root root 4096 Sep 21 00:04 pepita\n",
            "drwxr-xr-x 1 root root 4096 Aug 27 16:17 sample_data\n"
          ],
          "name": "stdout"
        }
      ]
    },
    {
      "cell_type": "code",
      "metadata": {
        "id": "umSEYnagIlso",
        "colab_type": "code",
        "colab": {
          "base_uri": "https://localhost:8080/",
          "height": 51
        },
        "outputId": "a1639af3-0fe4-41e6-cad7-708f5d0e9729"
      },
      "source": [
        "!ls -l ./pepita"
      ],
      "execution_count": 25,
      "outputs": [
        {
          "output_type": "stream",
          "text": [
            "total 0\n",
            "-rw-r--r-- 1 root root 0 Sep 21 00:04 maggi.txt\n"
          ],
          "name": "stdout"
        }
      ]
    }
  ]
}