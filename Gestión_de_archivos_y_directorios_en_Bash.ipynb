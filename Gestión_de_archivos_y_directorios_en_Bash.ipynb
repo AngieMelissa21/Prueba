{
  "nbformat": 4,
  "nbformat_minor": 0,
  "metadata": {
    "colab": {
      "name": "Gestión de archivos y directorios en Bash.ipynb",
      "provenance": [],
      "include_colab_link": true
    },
    "kernelspec": {
      "name": "python3",
      "display_name": "Python 3"
    }
  },
  "cells": [
    {
      "cell_type": "markdown",
      "metadata": {
        "id": "view-in-github",
        "colab_type": "text"
      },
      "source": [
        "<a href=\"https://colab.research.google.com/github/AngieMelissa21/Prueba/blob/master/Gesti%C3%B3n_de_archivos_y_directorios_en_Bash.ipynb\" target=\"_parent\"><img src=\"https://colab.research.google.com/assets/colab-badge.svg\" alt=\"Open In Colab\"/></a>"
      ]
    },
    {
      "cell_type": "markdown",
      "metadata": {
        "id": "qLSq7eA6AVdP",
        "colab_type": "text"
      },
      "source": [
        "Sesión 1.\n",
        "Tutorial de gestión de archivos y comandos.\n",
        "\n",
        "Las carpetas y directorios son efimeros, están en la nube. cada vez que me salgo se eliminan."
      ]
    },
    {
      "cell_type": "markdown",
      "metadata": {
        "id": "BHWVziEWChTT",
        "colab_type": "text"
      },
      "source": [
        "Determinación del directorio actual con `pwd`: Me muestra en dónde estoy parado\n"
      ]
    },
    {
      "cell_type": "code",
      "metadata": {
        "id": "KZdLBdnbAMu9",
        "colab_type": "code",
        "colab": {
          "base_uri": "https://localhost:8080/",
          "height": 34
        },
        "outputId": "66a3b54d-4c05-47c0-9ca2-5d0ad8e7dcd2"
      },
      "source": [
        "\n",
        "!pwd"
      ],
      "execution_count": 1,
      "outputs": [
        {
          "output_type": "stream",
          "text": [
            "/content\n"
          ],
          "name": "stdout"
        }
      ]
    },
    {
      "cell_type": "markdown",
      "metadata": {
        "id": "cyzXPTO1CWQy",
        "colab_type": "text"
      },
      "source": [
        "Listado del contenido de un directorio con `ls`: imprime el nombre de los archivos Y directorios existentes dentro del directorio de trabajo"
      ]
    },
    {
      "cell_type": "code",
      "metadata": {
        "id": "yMm1owH4CAh7",
        "colab_type": "code",
        "colab": {
          "base_uri": "https://localhost:8080/",
          "height": 34
        },
        "outputId": "08b18381-0c61-4c30-93f0-be8511185eec"
      },
      "source": [
        "# En el directorio se encuentra \"Sample_data\"\n",
        "!ls"
      ],
      "execution_count": 3,
      "outputs": [
        {
          "output_type": "stream",
          "text": [
            "sample_data\n"
          ],
          "name": "stdout"
        }
      ]
    },
    {
      "cell_type": "code",
      "metadata": {
        "id": "5oS1ysJqC1Uh",
        "colab_type": "code",
        "colab": {
          "base_uri": "https://localhost:8080/",
          "height": 51
        },
        "outputId": "d03c5392-6cc4-4897-d02e-dc2f0e3bf0cd"
      },
      "source": [
        "# Para imprimir información detallada del contenido directorio: ls -l\n",
        "!ls -l"
      ],
      "execution_count": 4,
      "outputs": [
        {
          "output_type": "stream",
          "text": [
            "total 4\n",
            "drwxr-xr-x 1 root root 4096 Aug 27 16:17 sample_data\n"
          ],
          "name": "stdout"
        }
      ]
    },
    {
      "cell_type": "markdown",
      "metadata": {
        "id": "MY8oOOMODTkt",
        "colab_type": "text"
      },
      "source": [
        "En la descripción drwxr-xr-x : si inicia con **d** es un directorio y si inicia con **-** es un archivo"
      ]
    },
    {
      "cell_type": "markdown",
      "metadata": {
        "id": "56gSXmcCDkfw",
        "colab_type": "text"
      },
      "source": [
        "Para crear un directorio se usa `mkdir`"
      ]
    },
    {
      "cell_type": "code",
      "metadata": {
        "id": "EMqIXkmWDF7e",
        "colab_type": "code",
        "colab": {}
      },
      "source": [
        "# data_class es el nombre del archivo\n",
        "!mkdir data_class"
      ],
      "execution_count": 0,
      "outputs": []
    },
    {
      "cell_type": "code",
      "metadata": {
        "id": "qLzgRNWtDw7Q",
        "colab_type": "code",
        "colab": {
          "base_uri": "https://localhost:8080/",
          "height": 68
        },
        "outputId": "8dd179af-950b-4cb6-e7ae-447e10ec6b65"
      },
      "source": [
        "# Ahora vemos el contenido de nuevo\n",
        "!ls -l"
      ],
      "execution_count": 6,
      "outputs": [
        {
          "output_type": "stream",
          "text": [
            "total 8\n",
            "drwxr-xr-x 2 root root 4096 Sep 20 23:43 data_class\n",
            "drwxr-xr-x 1 root root 4096 Aug 27 16:17 sample_data\n"
          ],
          "name": "stdout"
        }
      ]
    },
    {
      "cell_type": "markdown",
      "metadata": {
        "id": "0C4jzpOUEIFl",
        "colab_type": "text"
      },
      "source": [
        "Cambio del directorio actual de trabajo con `cd`"
      ]
    },
    {
      "cell_type": "code",
      "metadata": {
        "id": "dqDKuXYzD76y",
        "colab_type": "code",
        "colab": {}
      },
      "source": [
        "# Verificar por qué no funciona\n",
        "!cd data_class"
      ],
      "execution_count": 0,
      "outputs": []
    },
    {
      "cell_type": "code",
      "metadata": {
        "id": "oqzOFYChEg-T",
        "colab_type": "code",
        "colab": {
          "base_uri": "https://localhost:8080/",
          "height": 34
        },
        "outputId": "996f3a2f-1fd8-4943-c63e-548d48f914f9"
      },
      "source": [
        "!pwd"
      ],
      "execution_count": 8,
      "outputs": [
        {
          "output_type": "stream",
          "text": [
            "/content\n"
          ],
          "name": "stdout"
        }
      ]
    },
    {
      "cell_type": "markdown",
      "metadata": {
        "id": "7d5BM5EoE7QB",
        "colab_type": "text"
      },
      "source": [
        "Eliminación de comentarios"
      ]
    },
    {
      "cell_type": "code",
      "metadata": {
        "id": "fXp2mwaOEjE0",
        "colab_type": "code",
        "colab": {}
      },
      "source": [
        ""
      ],
      "execution_count": 0,
      "outputs": []
    }
  ]
}