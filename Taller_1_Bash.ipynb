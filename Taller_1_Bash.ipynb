{
  "nbformat": 4,
  "nbformat_minor": 0,
  "metadata": {
    "colab": {
      "name": "Taller 1 - Bash.ipynb",
      "provenance": [],
      "include_colab_link": true
    },
    "kernelspec": {
      "name": "python3",
      "display_name": "Python 3"
    }
  },
  "cells": [
    {
      "cell_type": "markdown",
      "metadata": {
        "id": "view-in-github",
        "colab_type": "text"
      },
      "source": [
        "<a href=\"https://colab.research.google.com/github/AngieMelissa21/Prueba/blob/master/Taller_1_Bash.ipynb\" target=\"_parent\"><img src=\"https://colab.research.google.com/assets/colab-badge.svg\" alt=\"Open In Colab\"/></a>"
      ]
    },
    {
      "cell_type": "markdown",
      "metadata": {
        "id": "fO7ZUcdwKcHS",
        "colab_type": "text"
      },
      "source": [
        "1. Crear un directorio chamado practica-bash-1"
      ]
    },
    {
      "cell_type": "code",
      "metadata": {
        "id": "x5vk3SWCKbwA",
        "colab_type": "code",
        "colab": {}
      },
      "source": [
        "mkdir practica-bash-1"
      ],
      "execution_count": 0,
      "outputs": []
    },
    {
      "cell_type": "markdown",
      "metadata": {
        "id": "YEHZQPZOLQR1",
        "colab_type": "text"
      },
      "source": [
        "2. Dentro del directorio practica-bash-1 crear tres carpetas llamadas 1, 2 y 3"
      ]
    },
    {
      "cell_type": "code",
      "metadata": {
        "id": "HET3yFioKM9T",
        "colab_type": "code",
        "colab": {}
      },
      "source": [
        "mkdir ./practica-bash-1/1 && mkdir ./practica-bash-1/2 && mkdir ./practica-bash-1/3"
      ],
      "execution_count": 0,
      "outputs": []
    },
    {
      "cell_type": "markdown",
      "metadata": {
        "id": "kWrXBH6LMA_i",
        "colab_type": "text"
      },
      "source": [
        "3. En el directorio 1, cree los directorios 1-1, 1-2 y 1-3"
      ]
    },
    {
      "cell_type": "code",
      "metadata": {
        "id": "P3B_SLNQLh5g",
        "colab_type": "code",
        "colab": {}
      },
      "source": [
        "mkdir ./practica-bash-1/1/1-1 && mkdir ./practica-bash-1/1/1-2 && mkdir ./practica-bash-1/1/1-3"
      ],
      "execution_count": 0,
      "outputs": []
    },
    {
      "cell_type": "markdown",
      "metadata": {
        "id": "fsfHzO8OMRWS",
        "colab_type": "text"
      },
      "source": [
        "4. En el directorio 2, cree los directorios 2-1, 2-2 y 2-3."
      ]
    },
    {
      "cell_type": "code",
      "metadata": {
        "id": "dvQLErXwMPGq",
        "colab_type": "code",
        "colab": {
          "base_uri": "https://localhost:8080/",
          "height": 34
        },
        "outputId": "2e86e547-c9d9-43ba-921f-b4d9c3be5e19"
      },
      "source": [
        "mkdir ./practica-bash-1/2/2-1 && mkdir ./practica-bash-1/2/2-2 && mkdir ./practica-bash-1/2/2-3"
      ],
      "execution_count": 7,
      "outputs": [
        {
          "output_type": "stream",
          "text": [
            "mkdir: cannot create directory ‘./practica-bash-1/2/2-1’: File exists\n"
          ],
          "name": "stdout"
        }
      ]
    },
    {
      "cell_type": "markdown",
      "metadata": {
        "id": "InhEjbp8Mld5",
        "colab_type": "text"
      },
      "source": [
        "5. En el directorio 3, cree los directorios 3-1, 3-2 y 3-3."
      ]
    },
    {
      "cell_type": "code",
      "metadata": {
        "id": "MIBpxEHkMbOU",
        "colab_type": "code",
        "colab": {}
      },
      "source": [
        "mkdir ./practica-bash-1/3/3-1 && mkdir ./practica-bash-1/3/3-2 && mkdir ./practica-bash-1/3/3-3"
      ],
      "execution_count": 0,
      "outputs": []
    },
    {
      "cell_type": "markdown",
      "metadata": {
        "id": "WSzClo1ZMw6Y",
        "colab_type": "text"
      },
      "source": [
        "Instalar el paquete tree"
      ]
    },
    {
      "cell_type": "code",
      "metadata": {
        "id": "tXCZ4oaUMttT",
        "colab_type": "code",
        "colab": {
          "base_uri": "https://localhost:8080/",
          "height": 289
        },
        "outputId": "b95d7714-af53-435b-b1fc-331a38481c88"
      },
      "source": [
        "!apt-get install tree"
      ],
      "execution_count": 9,
      "outputs": [
        {
          "output_type": "stream",
          "text": [
            "Reading package lists... Done\n",
            "Building dependency tree       \n",
            "Reading state information... Done\n",
            "The following NEW packages will be installed:\n",
            "  tree\n",
            "0 upgraded, 1 newly installed, 0 to remove and 8 not upgraded.\n",
            "Need to get 40.7 kB of archives.\n",
            "After this operation, 105 kB of additional disk space will be used.\n",
            "Get:1 http://archive.ubuntu.com/ubuntu bionic/universe amd64 tree amd64 1.7.0-5 [40.7 kB]\n",
            "Fetched 40.7 kB in 1s (66.9 kB/s)\n",
            "Selecting previously unselected package tree.\n",
            "(Reading database ... 131183 files and directories currently installed.)\n",
            "Preparing to unpack .../tree_1.7.0-5_amd64.deb ...\n",
            "Unpacking tree (1.7.0-5) ...\n",
            "Setting up tree (1.7.0-5) ...\n",
            "Processing triggers for man-db (2.8.3-2ubuntu0.1) ...\n"
          ],
          "name": "stdout"
        }
      ]
    },
    {
      "cell_type": "markdown",
      "metadata": {
        "id": "LZgHpxGmNNIX",
        "colab_type": "text"
      },
      "source": [
        "6. Estando posicionado en la carpeta practica-bash-1, use el comando tree para visualizar la estructura de subdirectorios."
      ]
    },
    {
      "cell_type": "code",
      "metadata": {
        "id": "Ny1HcU3JNB3g",
        "colab_type": "code",
        "colab": {
          "base_uri": "https://localhost:8080/",
          "height": 272
        },
        "outputId": "de2d5219-e811-433a-c871-862d64e75382"
      },
      "source": [
        "!tree ./practica-bash-1"
      ],
      "execution_count": 10,
      "outputs": [
        {
          "output_type": "stream",
          "text": [
            "./practica-bash-1\n",
            "├── 1\n",
            "│   ├── 1-1\n",
            "│   ├── 1-2\n",
            "│   └── 1-3\n",
            "├── 2\n",
            "│   ├── 2-1\n",
            "│   ├── 2-2\n",
            "│   └── 2-3\n",
            "└── 3\n",
            "    ├── 3-1\n",
            "    ├── 3-2\n",
            "    └── 3-3\n",
            "\n",
            "12 directories, 0 files\n"
          ],
          "name": "stdout"
        }
      ]
    },
    {
      "cell_type": "markdown",
      "metadata": {
        "id": "Lk4xfbMLNaEw",
        "colab_type": "text"
      },
      "source": [
        "7. En el directorio 1-1 cree los archivos _SUCCESS y part-0"
      ]
    },
    {
      "cell_type": "markdown",
      "metadata": {
        "id": "ET9xy4myOi_s",
        "colab_type": "text"
      },
      "source": [
        "Direcciones relativas"
      ]
    },
    {
      "cell_type": "code",
      "metadata": {
        "id": "g5ldAzReOl8C",
        "colab_type": "code",
        "colab": {}
      },
      "source": [
        "# Los dos puntos son para devolverse una carpeta\n",
        "# "
      ],
      "execution_count": 0,
      "outputs": []
    },
    {
      "cell_type": "code",
      "metadata": {
        "id": "IE9C-YJNNRur",
        "colab_type": "code",
        "colab": {}
      },
      "source": [
        "!touch ./practica-bash-1/1/1-1/_SUCCESS.txt"
      ],
      "execution_count": 0,
      "outputs": []
    },
    {
      "cell_type": "code",
      "metadata": {
        "id": "XngsLFmgNn9N",
        "colab_type": "code",
        "colab": {}
      },
      "source": [
        "!touch ./practica-bash-1/1/1-1/part_0.txt"
      ],
      "execution_count": 0,
      "outputs": []
    },
    {
      "cell_type": "markdown",
      "metadata": {
        "id": "Q2ug4lX0N0_t",
        "colab_type": "text"
      },
      "source": [
        "8. Copie el archivo part-0 a part-1 y a part-2."
      ]
    },
    {
      "cell_type": "code",
      "metadata": {
        "id": "lDwckbeYNyMW",
        "colab_type": "code",
        "colab": {}
      },
      "source": [
        "!cd ./practica-bash-1/1/1-1"
      ],
      "execution_count": 0,
      "outputs": []
    },
    {
      "cell_type": "code",
      "metadata": {
        "id": "hvAhbClCPLZo",
        "colab_type": "code",
        "colab": {
          "base_uri": "https://localhost:8080/",
          "height": 85
        },
        "outputId": "2d8f6785-f3ed-42aa-cbe3-e7f3734f6305"
      },
      "source": [
        "ls -l"
      ],
      "execution_count": 31,
      "outputs": [
        {
          "output_type": "stream",
          "text": [
            "total 8\n",
            "drwxr-xr-x 5 root root 4096 Sep 21 00:19 \u001b[0m\u001b[01;34mpractica-bash-1\u001b[0m/\n",
            "drwxr-xr-x 1 root root 4096 Aug 27 16:17 \u001b[01;34msample_data\u001b[0m/\n",
            "-rw-r--r-- 1 root root    0 Sep 21 00:26 _SUCCESS.txt\n"
          ],
          "name": "stdout"
        }
      ]
    },
    {
      "cell_type": "code",
      "metadata": {
        "id": "kacbazTWQOg3",
        "colab_type": "code",
        "colab": {}
      },
      "source": [
        ""
      ],
      "execution_count": 0,
      "outputs": []
    },
    {
      "cell_type": "code",
      "metadata": {
        "id": "PmQ501CXPvf7",
        "colab_type": "code",
        "colab": {
          "base_uri": "https://localhost:8080/",
          "height": 34
        },
        "outputId": "7f92fcdc-7638-4f71-bd2c-2c87f72fcf55"
      },
      "source": [
        "!cp part_0.txt part_1.txt"
      ],
      "execution_count": 29,
      "outputs": [
        {
          "output_type": "stream",
          "text": [
            "cp: cannot stat 'part_0.txt': No such file or directory\n"
          ],
          "name": "stdout"
        }
      ]
    },
    {
      "cell_type": "code",
      "metadata": {
        "id": "jZbNuwo8P39r",
        "colab_type": "code",
        "colab": {}
      },
      "source": [
        ""
      ],
      "execution_count": 0,
      "outputs": []
    }
  ]
}